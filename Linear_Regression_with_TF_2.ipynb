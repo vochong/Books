{
  "nbformat": 4,
  "nbformat_minor": 0,
  "metadata": {
    "colab": {
      "name": "Linear_Regression_with_TF_2.ipynb",
      "provenance": [],
      "collapsed_sections": [],
      "toc_visible": true,
      "include_colab_link": true
    },
    "kernelspec": {
      "name": "python3",
      "display_name": "Python 3"
    }
  },
  "cells": [
    {
      "cell_type": "markdown",
      "metadata": {
        "id": "view-in-github",
        "colab_type": "text"
      },
      "source": [
        "<a href=\"https://colab.research.google.com/github/vochong/Books/blob/master/Linear_Regression_with_TF_2.ipynb\" target=\"_parent\"><img src=\"https://colab.research.google.com/assets/colab-badge.svg\" alt=\"Open In Colab\"/></a>"
      ]
    },
    {
      "cell_type": "markdown",
      "metadata": {
        "id": "ED6cEsCu781l",
        "colab_type": "text"
      },
      "source": [
        "# Linear Regression with TensorFlow 2.0 APIs\n",
        "This notebook demonstrates how to construct a linear regression model with the newest TensorFlow 2.0 APIs."
      ]
    },
    {
      "cell_type": "markdown",
      "metadata": {
        "id": "RNvDqE_3SHNj",
        "colab_type": "text"
      },
      "source": [
        "## Importing the packages\n",
        "\n",
        "First, we need to install [TensorFlow 2.0](https://www.tensorflow.org/alpha/guide/effective_tf2) from PyPI. It's currently available as an alpha release ( as of May 2019 ). Also, we import the [Pandas](https://pandas.pydata.org/) and [NumPy](https://www.numpy.org/) packages along with [Scikit Learn's `train_test_split` module.](https://scikit-learn.org/stable/modules/generated/sklearn.model_selection.train_test_split.html)"
      ]
    },
    {
      "cell_type": "code",
      "metadata": {
        "id": "e-A0vgnmRPXf",
        "colab_type": "code",
        "outputId": "c9834f7d-5168-416e-a3d1-fd885322a612",
        "colab": {
          "base_uri": "https://localhost:8080/",
          "height": 34
        }
      },
      "source": [
        "\n",
        "import tensorflow as tf \n",
        "import numpy as np\n",
        "import pandas as pd\n",
        "from sklearn.model_selection import train_test_split\n",
        "\n",
        "print( tf.__version__ )\n"
      ],
      "execution_count": 0,
      "outputs": [
        {
          "output_type": "stream",
          "text": [
            "2.0.0-alpha0\n"
          ],
          "name": "stdout"
        }
      ]
    },
    {
      "cell_type": "markdown",
      "metadata": {
        "id": "ZrLriFD3kVB_",
        "colab_type": "text"
      },
      "source": [
        "**Note:**  Installing TensorFlow 2.0 can be an optional step if the Google Colab runtime has it by default. You can first check the TensorFlow version and then install TF 2.0 if necessary."
      ]
    },
    {
      "cell_type": "code",
      "metadata": {
        "id": "K76_iJ5o97Pl",
        "colab_type": "code",
        "colab": {}
      },
      "source": [
        "\n",
        "!pip install tensorflow==2.0.0-alpha0\n"
      ],
      "execution_count": 0,
      "outputs": []
    },
    {
      "cell_type": "markdown",
      "metadata": {
        "id": "gSjWLlrOktS_",
        "colab_type": "text"
      },
      "source": [
        "## Processing the Data\n",
        "We download and preprocess our data for training and testing."
      ]
    },
    {
      "cell_type": "markdown",
      "metadata": {
        "id": "yTPjzPnQlkTv",
        "colab_type": "text"
      },
      "source": [
        "### Downloading the CSV file from GitHub\n",
        "\n",
        "We will download the ZIP archive hosted at [shubham0204/Dataset_Archives](https://github.com/shubham0204/Dataset_Archives) which contains the main CSV file. We are going to use the data from [Graduate Admissions on Kaggle.com](https://www.kaggle.com/mohansacharya/graduate-admissions). That's simple Python!\n",
        "\n",
        "\n"
      ]
    },
    {
      "cell_type": "code",
      "metadata": {
        "id": "8eIcvmD2l79n",
        "colab_type": "code",
        "colab": {}
      },
      "source": [
        "\n",
        "import requests, zipfile, io\n",
        "\n",
        "r = requests.get( 'https://github.com/shubham0204/Dataset_Archives/blob/master/graduate_admission_prediction.zip?raw=true' ) \n",
        "z = zipfile.ZipFile(io.BytesIO(r.content))\n",
        "z.extractall() \n"
      ],
      "execution_count": 0,
      "outputs": []
    },
    {
      "cell_type": "markdown",
      "metadata": {
        "id": "llJJvBbHvKVg",
        "colab_type": "text"
      },
      "source": [
        "### Reading the CSV file with Pandas\n",
        "We read the CSV file using [Pandas' `read_csv`](https://pandas.pydata.org/pandas-docs/stable/reference/api/pandas.read_csv.html) function and print the top 5 samples of the data.\n"
      ]
    },
    {
      "cell_type": "code",
      "metadata": {
        "id": "VycstAovSbng",
        "colab_type": "code",
        "outputId": "46a4773d-e82d-454a-a97e-f6e0657d2a8c",
        "colab": {
          "base_uri": "https://localhost:8080/",
          "height": 204
        }
      },
      "source": [
        "\n",
        "data = pd.read_csv( 'graduate_admission_prediction/Admission_Predict_Ver1.1.csv' )\n",
        "data.head()\n"
      ],
      "execution_count": 0,
      "outputs": [
        {
          "output_type": "execute_result",
          "data": {
            "text/html": [
              "<div>\n",
              "<style scoped>\n",
              "    .dataframe tbody tr th:only-of-type {\n",
              "        vertical-align: middle;\n",
              "    }\n",
              "\n",
              "    .dataframe tbody tr th {\n",
              "        vertical-align: top;\n",
              "    }\n",
              "\n",
              "    .dataframe thead th {\n",
              "        text-align: right;\n",
              "    }\n",
              "</style>\n",
              "<table border=\"1\" class=\"dataframe\">\n",
              "  <thead>\n",
              "    <tr style=\"text-align: right;\">\n",
              "      <th></th>\n",
              "      <th>Serial No.</th>\n",
              "      <th>GRE Score</th>\n",
              "      <th>TOEFL Score</th>\n",
              "      <th>University Rating</th>\n",
              "      <th>SOP</th>\n",
              "      <th>LOR</th>\n",
              "      <th>CGPA</th>\n",
              "      <th>Research</th>\n",
              "      <th>Chance of Admit</th>\n",
              "    </tr>\n",
              "  </thead>\n",
              "  <tbody>\n",
              "    <tr>\n",
              "      <th>0</th>\n",
              "      <td>1</td>\n",
              "      <td>337</td>\n",
              "      <td>118</td>\n",
              "      <td>4</td>\n",
              "      <td>4.5</td>\n",
              "      <td>4.5</td>\n",
              "      <td>9.65</td>\n",
              "      <td>1</td>\n",
              "      <td>0.92</td>\n",
              "    </tr>\n",
              "    <tr>\n",
              "      <th>1</th>\n",
              "      <td>2</td>\n",
              "      <td>324</td>\n",
              "      <td>107</td>\n",
              "      <td>4</td>\n",
              "      <td>4.0</td>\n",
              "      <td>4.5</td>\n",
              "      <td>8.87</td>\n",
              "      <td>1</td>\n",
              "      <td>0.76</td>\n",
              "    </tr>\n",
              "    <tr>\n",
              "      <th>2</th>\n",
              "      <td>3</td>\n",
              "      <td>316</td>\n",
              "      <td>104</td>\n",
              "      <td>3</td>\n",
              "      <td>3.0</td>\n",
              "      <td>3.5</td>\n",
              "      <td>8.00</td>\n",
              "      <td>1</td>\n",
              "      <td>0.72</td>\n",
              "    </tr>\n",
              "    <tr>\n",
              "      <th>3</th>\n",
              "      <td>4</td>\n",
              "      <td>322</td>\n",
              "      <td>110</td>\n",
              "      <td>3</td>\n",
              "      <td>3.5</td>\n",
              "      <td>2.5</td>\n",
              "      <td>8.67</td>\n",
              "      <td>1</td>\n",
              "      <td>0.80</td>\n",
              "    </tr>\n",
              "    <tr>\n",
              "      <th>4</th>\n",
              "      <td>5</td>\n",
              "      <td>314</td>\n",
              "      <td>103</td>\n",
              "      <td>2</td>\n",
              "      <td>2.0</td>\n",
              "      <td>3.0</td>\n",
              "      <td>8.21</td>\n",
              "      <td>0</td>\n",
              "      <td>0.65</td>\n",
              "    </tr>\n",
              "  </tbody>\n",
              "</table>\n",
              "</div>"
            ],
            "text/plain": [
              "   Serial No.  GRE Score  TOEFL Score  ...  CGPA  Research  Chance of Admit \n",
              "0           1        337          118  ...  9.65         1              0.92\n",
              "1           2        324          107  ...  8.87         1              0.76\n",
              "2           3        316          104  ...  8.00         1              0.72\n",
              "3           4        322          110  ...  8.67         1              0.80\n",
              "4           5        314          103  ...  8.21         0              0.65\n",
              "\n",
              "[5 rows x 9 columns]"
            ]
          },
          "metadata": {
            "tags": []
          },
          "execution_count": 3
        }
      ]
    },
    {
      "cell_type": "markdown",
      "metadata": {
        "id": "ROmU8ZtivjTe",
        "colab_type": "text"
      },
      "source": [
        "### Processing the CSV\n",
        "\n",
        "We parse the values of the features from the Pandas `data` object. The steps are as follows:\n",
        "\n",
        "1.   Read the values from the numeric/continuous features and normalize them by dividing with 100. ( `continuous_features` ) \n",
        "2.   Read the values from the binary feature. ( `categorical_research_feature` ) \n",
        "3.   Concatenate both the features types to form the final features array. ( `X` )\n",
        "4.   Parse the label values. ( Y ) \n",
        "5.   Split the `X` and `Y` into training and validation datasets.\n",
        "6.   Convert all the arrays to `tf.Tensor` objects.\n",
        "\n",
        "\n",
        "\n"
      ]
    },
    {
      "cell_type": "code",
      "metadata": {
        "id": "_2UugVvZS_7x",
        "colab_type": "code",
        "colab": {}
      },
      "source": [
        "\n",
        "continuous_features = data[ ['GRE Score','TOEFL Score','University Rating','SOP','LOR ','CGPA'] ].values / 100 # ----( 1 )\n",
        "categorical_research_features = data[ [ 'Research' ] ].values # ----( 2 )\n",
        "\n",
        "X = np.concatenate( [ continuous_features , categorical_research_features ] , axis=1 ) # ----( 3 )\n",
        "Y = data[ [ 'Chance of Admit ' ] ].values # ----( 4 )\n",
        "\n",
        "train_features , test_features ,train_labels, test_labels = train_test_split( X , Y , test_size=0.2 ) # ----( 5 )\n",
        "\n",
        "X = tf.constant( train_features , dtype=tf.float32 ) # -----|\n",
        "Y = tf.constant( train_labels , dtype=tf.float32 ) # -------|\n",
        "                                                           #|---( 6 )\n",
        "test_X = tf.constant( test_features , dtype=tf.float32 ) #--|\n",
        "test_Y = tf.constant( test_labels , dtype=tf.float32 ) # ---|\n"
      ],
      "execution_count": 0,
      "outputs": []
    },
    {
      "cell_type": "markdown",
      "metadata": {
        "id": "Hp8j6c7B1Jq2",
        "colab_type": "text"
      },
      "source": [
        "## Linear Regression model\n",
        "\n",
        "We create various methods which help us in creating various components for our [linear regression model](https://machinelearningmastery.com/linear-regression-for-machine-learning/).\n"
      ]
    },
    {
      "cell_type": "markdown",
      "metadata": {
        "id": "xhOEx2981Xfs",
        "colab_type": "text"
      },
      "source": [
        "### Mean Squared Error and its derivative\n",
        "\n",
        "We define a method which calculates the [mean squared error](https://www.freecodecamp.org/news/machine-learning-mean-squared-error-regression-line-c7dde9a26b93/) given the predictions and the expected outcomes.\n",
        "\n",
        "$\\Large MSE( y , \\hat{y} ) = \\frac{ \\sum_{i=0}^{N} ( y_i - \\hat{y}_i )^2 } { N }$\n",
        "\n",
        "And its derivative,\n",
        "\n",
        "$\\Large MSE'( y , \\hat{y} ) = \\frac{ 2 * \\sum_{i=0}^{N} ( y_i - \\hat{y}_i ) } { N }$\n",
        "\n"
      ]
    },
    {
      "cell_type": "code",
      "metadata": {
        "id": "yaTYPGTIGwcY",
        "colab_type": "code",
        "colab": {}
      },
      "source": [
        "\n",
        "def mean_squared_error( Y , y_pred ):\n",
        "    return tf.reduce_mean( tf.square( y_pred - Y ) )\n",
        "\n",
        "def mean_squared_error_deriv( Y , y_pred ):\n",
        "    return tf.reshape( tf.reduce_mean( 2 * ( y_pred - Y ) ) , [ 1 , 1 ] )\n"
      ],
      "execution_count": 0,
      "outputs": []
    },
    {
      "cell_type": "markdown",
      "metadata": {
        "id": "s_4B8k9G2pHf",
        "colab_type": "text"
      },
      "source": [
        "### Hypothesis function (  Regression function )\n",
        "\n",
        "We define the hypothesis function *h* which takes in the weights and the bias and outputs the *Y* value for the given value of *X*.\n",
        "\n",
        "$\\Large h( x ) = W.X + B$\n",
        "\n",
        "where $W$ and $X$ are the parameters which are going to optimize by [Gradient Descent](https://ml-cheatsheet.readthedocs.io/en/latest/gradient_descent.html).\n",
        "\n"
      ]
    },
    {
      "cell_type": "code",
      "metadata": {
        "id": "HugDGNhAaF7v",
        "colab_type": "code",
        "colab": {}
      },
      "source": [
        "\n",
        "def h ( X , weights , bias ):\n",
        "    return tf.tensordot( X , weights , axes=1 ) + bias\n"
      ],
      "execution_count": 0,
      "outputs": []
    },
    {
      "cell_type": "markdown",
      "metadata": {
        "id": "VsQQJI6T33Ui",
        "colab_type": "text"
      },
      "source": [
        "### Defining hyperparameters and `tf.data.Dataset`\n",
        "We define two hyperparameters which will affect our training process.\n",
        "\n",
        "*   Batch Size $\\to$ The size of the mini-batch used in mini-batch gradient descent.\n",
        "*   Learning Rate $\\to$ The scalar value which scales the step size of the gradients.\n",
        "\n",
        "Also, for effective mini-batch training, we create a [`tf.data.Dataset`](https://www.tensorflow.org/versions/r2.0/api_docs/python/tf/data/Dataset) object which holds and batches our data tensors.\n",
        "\n",
        "\n",
        "\n"
      ]
    },
    {
      "cell_type": "code",
      "metadata": {
        "id": "g3aewwV75USS",
        "colab_type": "code",
        "colab": {}
      },
      "source": [
        "\n",
        "num_epochs = 10\n",
        "num_samples = X.shape[0]\n",
        "batch_size = 10\n",
        "learning_rate = 0.001\n",
        "\n",
        "dataset = tf.data.Dataset.from_tensor_slices(( X , Y )) \n",
        "dataset = dataset.shuffle( 500 ).repeat( num_epochs ).batch( batch_size )\n",
        "iterator = dataset.__iter__()\n"
      ],
      "execution_count": 0,
      "outputs": []
    },
    {
      "cell_type": "markdown",
      "metadata": {
        "id": "oViTe5G75YK7",
        "colab_type": "text"
      },
      "source": [
        "### Training the model\n",
        "\n",
        "We train the model for a given number of epochs. We perform optimization for every batch in our dataset.\n",
        "\n",
        "Forward Propogation, to calculate the loss, is as follows,\n",
        "\n",
        "$\\Large loss = MSE( W.X + b ) $\n",
        "\n",
        "To optimize the parameter $W$, the partial derivative of $MSE$ with respect to $W$ will be,\n",
        "\n",
        "\n",
        "$\\Large \\frac{ \\partial MSE }{ \\partial W} = \\frac{ \\partial MSE }{ \\partial h} \\frac{ \\partial h }{ \\partial W}$\n",
        "\n",
        "Similarly for bias $b$ , \n",
        "\n",
        "$\\Large \\frac{ \\partial MSE }{ \\partial b} = \\frac{ \\partial MSE }{ \\partial h} $\n"
      ]
    },
    {
      "cell_type": "code",
      "metadata": {
        "id": "Z0-QyOc2UhKC",
        "colab_type": "code",
        "outputId": "b4c8ddc6-013e-4890-a695-14565d127033",
        "colab": {
          "base_uri": "https://localhost:8080/",
          "height": 187
        }
      },
      "source": [
        "\n",
        "num_features = X.shape[1]\n",
        "weights = tf.random.normal( ( num_features , 1 ) ) \n",
        "bias = 0\n",
        "\n",
        "epochs_plot = list()\n",
        "loss_plot = list()\n",
        "\n",
        "for i in range( num_epochs ) :\n",
        "    \n",
        "    epoch_loss = list()\n",
        "    for b in range( int(num_samples/batch_size) ):\n",
        "        x_batch , y_batch = iterator.get_next()\n",
        "   \n",
        "        output = h( x_batch , weights , bias ) \n",
        "        loss = epoch_loss.append( mean_squared_error( y_batch , output ).numpy() )\n",
        "    \n",
        "        dJ_dH = mean_squared_error_deriv( y_batch , output)\n",
        "        dH_dW = x_batch\n",
        "        dJ_dW = tf.reduce_mean( dJ_dH * dH_dW )\n",
        "        dJ_dB = tf.reduce_mean( dJ_dH )\n",
        "    \n",
        "        weights -= ( learning_rate * dJ_dW )\n",
        "        bias -= ( learning_rate * dJ_dB ) \n",
        "        \n",
        "    loss = np.array( epoch_loss ).mean()\n",
        "    epochs_plot.append( i + 1 )\n",
        "    loss_plot.append( loss ) \n",
        "    \n",
        "    print( 'Loss is {}'.format( loss ) ) \n",
        "    "
      ],
      "execution_count": 0,
      "outputs": [
        {
          "output_type": "stream",
          "text": [
            "Loss is 19.8784122467041\n",
            "Loss is 9.569950103759766\n",
            "Loss is 4.609400272369385\n",
            "Loss is 2.223372220993042\n",
            "Loss is 1.0768611431121826\n",
            "Loss is 0.5268138647079468\n",
            "Loss is 0.2634977102279663\n",
            "Loss is 0.13798141479492188\n",
            "Loss is 0.0782383531332016\n",
            "Loss is 0.04986153915524483\n"
          ],
          "name": "stdout"
        }
      ]
    },
    {
      "cell_type": "markdown",
      "metadata": {
        "id": "B0vOQ_vN7rnt",
        "colab_type": "text"
      },
      "source": [
        "### Plotting the epoch-loss graph\n",
        "\n",
        "We plot a simple graph which shows us the decrease in loss with increasing epochs."
      ]
    },
    {
      "cell_type": "code",
      "metadata": {
        "id": "CgKyMat-ujr9",
        "colab_type": "code",
        "outputId": "6410562b-398a-4021-de43-669fc3d24d5b",
        "colab": {
          "base_uri": "https://localhost:8080/",
          "height": 269
        }
      },
      "source": [
        "\n",
        "import matplotlib.pyplot as plt\n",
        "\n",
        "plt.plot( epochs_plot , loss_plot ) \n",
        "plt.show()\n"
      ],
      "execution_count": 0,
      "outputs": [
        {
          "output_type": "display_data",
          "data": {
            "image/png": "[encoded data removed]",
            "text/plain": [
              "<Figure size 432x288 with 1 Axes>"
            ]
          },
          "metadata": {
            "tags": []
          }
        }
      ]
    },
    {
      "cell_type": "markdown",
      "metadata": {
        "id": "cNFROc6M8jQX",
        "colab_type": "text"
      },
      "source": [
        "## Evaluating the model\n",
        "\n",
        "We evaluate our model's performance by measuring the [Mean Absolute Error](https://ml-cheatsheet.readthedocs.io/en/latest/loss_functions.html?highlight=mean%20absolute#mae-l1) on the validation dataset."
      ]
    },
    {
      "cell_type": "code",
      "metadata": {
        "id": "uyKcSFJrbhRf",
        "colab_type": "code",
        "colab": {}
      },
      "source": [
        "\n",
        "output = h( test_X , weights , bias ) \n",
        "labels = test_Y\n",
        "\n",
        "accuracy_op = tf.metrics.MeanAbsoluteError() \n",
        "accuracy_op.update_state( labels , output )\n",
        "print( 'Mean Absolute Error = {}'.format( accuracy_op.result().numpy() ) )\n"
      ],
      "execution_count": 0,
      "outputs": []
    }
  ]
}